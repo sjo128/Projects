{
 "cells": [
  {
   "cell_type": "markdown",
   "metadata": {},
   "source": [
    "#Survival Analysis_female marriage for the first time in SAT village\n",
    " SAT means Honduran Sistema de Aprendizaje Tutorial, or an innovative middle school model (McEwan et al, 2015)\n",
    " CEB means the Centro de Educación Básica, or the traditional educational system\n",
    " \n",
    " In this project, I am investigating how residing in Honduran SAT villages affects the age at first marriage for the female population. Interestingly, I find that living in SAT villages actually lowers the age at first marriage when we control for age, math and language scores."
   ]
  },
  {
   "cell_type": "code",
   "execution_count": 1,
   "metadata": {},
   "outputs": [
    {
     "name": "stdout",
     "output_type": "stream",
     "text": [
      "    Unnamed: 0   PID  AGE  Y  CENSORED  SAT      MATH      LANG  VILLAGE_PAIR\n",
      "0            0  1001   14  0         1    0 -0.791665 -1.293905             7\n",
      "1            1  1001   15  0         1    0 -0.791665 -1.293905             7\n",
      "2            2  1001   16  0         1    0 -0.791665 -1.293905             7\n",
      "3            3  1001   17  0         1    0 -0.791665 -1.293905             7\n",
      "4            4  1001   18  0         1    0 -0.791665 -1.293905             7\n",
      "5            5  1001   19  0         1    0 -0.791665 -1.293905             7\n",
      "6            6  1001   20  0         1    0 -0.791665 -1.293905             7\n",
      "7            7  1001   21  0         1    0 -0.791665 -1.293905             7\n",
      "8            8  1006   14  0         1    0 -0.968173 -1.633827             7\n",
      "9            9  1006   15  0         1    0 -0.968173 -1.633827             7\n",
      "10          10  1006   16  0         1    0 -0.968173 -1.633827             7\n",
      "11          11  1006   17  0         1    0 -0.968173 -1.633827             7\n",
      "12          12  1006   18  0         1    0 -0.968173 -1.633827             7\n",
      "13          13  1006   19  0         1    0 -0.968173 -1.633827             7\n",
      "14          14  1006   20  0         1    0 -0.968173 -1.633827             7\n",
      "15          15  1006   21  0         1    0 -0.968173 -1.633827             7\n",
      "16          16  1010   13  0         1    0  0.510593 -0.245558             7\n",
      "17          17  1010   14  0         1    0  0.510593 -0.245558             7\n",
      "18          18  1010   15  0         1    0  0.510593 -0.245558             7\n",
      "19          19  1010   16  0         1    0  0.510593 -0.245558             7\n",
      "20          20  1010   17  0         1    0  0.510593 -0.245558             7\n",
      "21          21  1010   18  0         1    0  0.510593 -0.245558             7\n",
      "22          22  1010   19  0         1    0  0.510593 -0.245558             7\n",
      "23          23  1010   20  0         1    0  0.510593 -0.245558             7\n",
      "24          24  1011   13  0         0    0  1.155858  0.068961             7\n",
      "25          25  1011   14  0         0    0  1.155858  0.068961             7\n",
      "26          26  1011   15  0         0    0  1.155858  0.068961             7\n",
      "27          27  1011   16  0         0    0  1.155858  0.068961             7\n",
      "28          28  1011   17  0         0    0  1.155858  0.068961             7\n",
      "29          29  1011   18  1         0    0  1.155858  0.068961             7\n",
      "30          30  1012   14  0         0    1 -0.555802  0.639013            16\n",
      "31          31  1012   15  1         0    1 -0.555802  0.639013            16\n"
     ]
    },
    {
     "name": "stderr",
     "output_type": "stream",
     "text": [
      "/Users/davidson/anaconda3/lib/python3.6/site-packages/statsmodels/compat/pandas.py:56: FutureWarning: The pandas.core.datetools module is deprecated and will be removed in a future version. Please use the pandas.tseries module instead.\n",
      "  from pandas.core import datetools\n"
     ]
    }
   ],
   "source": [
    "# Load core data science libraries\n",
    "import numpy as np\n",
    "import pandas as pd\n",
    "import matplotlib.pyplot as plt\n",
    "import statsmodels.api as sm\n",
    "\n",
    "# Load data\n",
    "# Read the file and specify the column name/type, along with parameters\n",
    "\n",
    "col_dtypes = {'Index':int,'PID':int, 'AGE':int, 'Y':int,\\\n",
    "              'CENSORED':int, 'SAT':int, 'MATH':float, 'LANG':float,\\\n",
    "              'VILLAGE_PAIR':int}\n",
    "\n",
    "PersonYear  = pd.read_csv('/Users/davidson/Downloads/marriage.out',dtype=col_dtypes,\\\n",
    "                    na_values='', engine='c', sep = '\\t',encoding = 'utf-8')\n",
    "\n",
    "print(PersonYear[0:32])"
   ]
  },
  {
   "cell_type": "markdown",
   "metadata": {},
   "source": [
    "Describe the marriage histories, including a discussion of censoring, if any, of these five women.\n",
    "\n",
    "According the person period dataset, the first three women (with PID 1001, 1006, 1010) seem to have been censored and thus exitted the sample at the age of 21, 21, and 20, respectively. Out of the remaining two women, the woman with PID 1011 got married at the age of 18 and exitted the sample, while the woman with PID 1012 did so at the age of 15. It is also notable that unlike other women, the censored woman with PID 1010 started getting surveyed into the sample at the age of 13, and not 14.\n",
    "\n",
    "PID: Person ID"
   ]
  },
  {
   "cell_type": "code",
   "execution_count": 2,
   "metadata": {
    "collapsed": true
   },
   "outputs": [],
   "source": [
    "#Create a dummy variable for each unique age value in the dataset and add these to your dataframe\n",
    "PersonYear = pd.concat([PersonYear, pd.get_dummies (PersonYear['AGE'].astype('category'), prefix ='AGE')], axis=1)\n",
    "\n",
    "#Create a dummy variable for all rows corresponding to ages 23 and above and call it “AGE_23+”.\n",
    "\n",
    "PersonYear['AGE_23+'] = PersonYear['AGE_23']+PersonYear['AGE_24']+PersonYear['AGE_25']+PersonYear['AGE_26']+PersonYear['AGE_27']+PersonYear['AGE_28']\n",
    "\n",
    "PersonYear = PersonYear.drop(['AGE_23','AGE_24','AGE_25','AGE_26','AGE_27','AGE_28'],axis=1)"
   ]
  },
  {
   "cell_type": "code",
   "execution_count": 3,
   "metadata": {},
   "outputs": [
    {
     "name": "stdout",
     "output_type": "stream",
     "text": [
      "Optimization terminated successfully.\n",
      "         Current function value: 0.239422\n",
      "         Iterations 9\n"
     ]
    },
    {
     "data": {
      "text/html": [
       "<table class=\"simpletable\">\n",
       "<caption>Logit Regression Results</caption>\n",
       "<tr>\n",
       "  <th>Dep. Variable:</th>         <td>Y</td>        <th>  No. Observations:  </th>  <td>  4159</td>  \n",
       "</tr>\n",
       "<tr>\n",
       "  <th>Model:</th>               <td>Logit</td>      <th>  Df Residuals:      </th>  <td>  4147</td>  \n",
       "</tr>\n",
       "<tr>\n",
       "  <th>Method:</th>               <td>MLE</td>       <th>  Df Model:          </th>  <td>    11</td>  \n",
       "</tr>\n",
       "<tr>\n",
       "  <th>Date:</th>          <td>Fri, 04 May 2018</td> <th>  Pseudo R-squ.:     </th>  <td>0.05575</td> \n",
       "</tr>\n",
       "<tr>\n",
       "  <th>Time:</th>              <td>02:07:27</td>     <th>  Log-Likelihood:    </th> <td> -995.76</td> \n",
       "</tr>\n",
       "<tr>\n",
       "  <th>converged:</th>           <td>True</td>       <th>  LL-Null:           </th> <td> -1054.5</td> \n",
       "</tr>\n",
       "<tr>\n",
       "  <th> </th>                      <td> </td>        <th>  LLR p-value:       </th> <td>5.546e-20</td>\n",
       "</tr>\n",
       "</table>\n",
       "<table class=\"simpletable\">\n",
       "<tr>\n",
       "     <td></td>        <th>coef</th>     <th>std err</th>      <th>t</th>      <th>P>|t|</th>  <th>[0.025</th>    <th>0.975]</th>  \n",
       "</tr>\n",
       "<tr>\n",
       "  <th>AGE_12</th>  <td>   -5.0814</td> <td>    0.711</td> <td>   -7.149</td> <td> 0.000</td> <td>   -6.477</td> <td>   -3.685</td>\n",
       "</tr>\n",
       "<tr>\n",
       "  <th>AGE_13</th>  <td>   -4.3567</td> <td>    0.412</td> <td>  -10.581</td> <td> 0.000</td> <td>   -5.165</td> <td>   -3.548</td>\n",
       "</tr>\n",
       "<tr>\n",
       "  <th>AGE_14</th>  <td>   -3.4302</td> <td>    0.247</td> <td>  -13.890</td> <td> 0.000</td> <td>   -3.915</td> <td>   -2.945</td>\n",
       "</tr>\n",
       "<tr>\n",
       "  <th>AGE_15</th>  <td>   -2.5998</td> <td>    0.166</td> <td>  -15.631</td> <td> 0.000</td> <td>   -2.926</td> <td>   -2.273</td>\n",
       "</tr>\n",
       "<tr>\n",
       "  <th>AGE_16</th>  <td>   -2.3232</td> <td>    0.152</td> <td>  -15.328</td> <td> 0.000</td> <td>   -2.621</td> <td>   -2.026</td>\n",
       "</tr>\n",
       "<tr>\n",
       "  <th>AGE_17</th>  <td>   -2.3026</td> <td>    0.157</td> <td>  -14.696</td> <td> 0.000</td> <td>   -2.610</td> <td>   -1.995</td>\n",
       "</tr>\n",
       "<tr>\n",
       "  <th>AGE_18</th>  <td>   -2.0996</td> <td>    0.152</td> <td>  -13.843</td> <td> 0.000</td> <td>   -2.398</td> <td>   -1.802</td>\n",
       "</tr>\n",
       "<tr>\n",
       "  <th>AGE_19</th>  <td>   -1.9729</td> <td>    0.156</td> <td>  -12.646</td> <td> 0.000</td> <td>   -2.279</td> <td>   -1.667</td>\n",
       "</tr>\n",
       "<tr>\n",
       "  <th>AGE_20</th>  <td>   -2.3925</td> <td>    0.254</td> <td>   -9.422</td> <td> 0.000</td> <td>   -2.891</td> <td>   -1.894</td>\n",
       "</tr>\n",
       "<tr>\n",
       "  <th>AGE_21</th>  <td>   -1.9716</td> <td>    0.323</td> <td>   -6.113</td> <td> 0.000</td> <td>   -2.605</td> <td>   -1.338</td>\n",
       "</tr>\n",
       "<tr>\n",
       "  <th>AGE_22</th>  <td>   -2.1041</td> <td>    0.475</td> <td>   -4.432</td> <td> 0.000</td> <td>   -3.036</td> <td>   -1.172</td>\n",
       "</tr>\n",
       "<tr>\n",
       "  <th>AGE_23+</th> <td>   -2.1748</td> <td>    0.501</td> <td>   -4.337</td> <td> 0.000</td> <td>   -3.160</td> <td>   -1.190</td>\n",
       "</tr>\n",
       "</table>"
      ],
      "text/plain": [
       "<class 'statsmodels.iolib.summary.Summary'>\n",
       "\"\"\"\n",
       "                           Logit Regression Results                           \n",
       "==============================================================================\n",
       "Dep. Variable:                      Y   No. Observations:                 4159\n",
       "Model:                          Logit   Df Residuals:                     4147\n",
       "Method:                           MLE   Df Model:                           11\n",
       "Date:                Fri, 04 May 2018   Pseudo R-squ.:                 0.05575\n",
       "Time:                        02:07:27   Log-Likelihood:                -995.76\n",
       "converged:                       True   LL-Null:                       -1054.5\n",
       "                                        LLR p-value:                 5.546e-20\n",
       "==============================================================================\n",
       "                 coef    std err          t      P>|t|      [0.025      0.975]\n",
       "------------------------------------------------------------------------------\n",
       "AGE_12        -5.0814      0.711     -7.149      0.000      -6.477      -3.685\n",
       "AGE_13        -4.3567      0.412    -10.581      0.000      -5.165      -3.548\n",
       "AGE_14        -3.4302      0.247    -13.890      0.000      -3.915      -2.945\n",
       "AGE_15        -2.5998      0.166    -15.631      0.000      -2.926      -2.273\n",
       "AGE_16        -2.3232      0.152    -15.328      0.000      -2.621      -2.026\n",
       "AGE_17        -2.3026      0.157    -14.696      0.000      -2.610      -1.995\n",
       "AGE_18        -2.0996      0.152    -13.843      0.000      -2.398      -1.802\n",
       "AGE_19        -1.9729      0.156    -12.646      0.000      -2.279      -1.667\n",
       "AGE_20        -2.3925      0.254     -9.422      0.000      -2.891      -1.894\n",
       "AGE_21        -1.9716      0.323     -6.113      0.000      -2.605      -1.338\n",
       "AGE_22        -2.1041      0.475     -4.432      0.000      -3.036      -1.172\n",
       "AGE_23+       -2.1748      0.501     -4.337      0.000      -3.160      -1.190\n",
       "==============================================================================\n",
       "\"\"\""
      ]
     },
     "execution_count": 3,
     "metadata": {},
     "output_type": "execute_result"
    }
   ],
   "source": [
    "#Compute the discrete-time baseline hazard using logistic regression as described in lecture and\n",
    "#Singer and Willet (2003, Chapter 11).\n",
    "\n",
    "# Construct the outcome vector for logistic regression \n",
    "Y = PersonYear['Y']\n",
    "# Construct the design matrix for the logistic regression\n",
    "\n",
    "X = PersonYear.loc[:,'AGE_12':]\n",
    "#Compute the logistic regression\n",
    "#Cluster of units (on 'PID'), to obtain correct standard errors: cluster-robust standard errors\n",
    "logit = sm.Logit(Y,X).fit(cov_type='cluster', cov_kwds={'groups': PersonYear['PID']},use_t=True)\n",
    "logit.summary()"
   ]
  },
  {
   "cell_type": "markdown",
   "metadata": {},
   "source": [
    "In your model include the dummies “AGE_12”,“AGE_13”,.... “AGE_22” and “AGE_23+”. Do not include a constant in your model. Why? [2 -3 sentences]\n",
    "\n",
    "We're going to exclude a constant from our fit. This is related to degree of freedom and done to prevent multicollinearity, or the dummy variable trap caused by including a dummy variable for every single category in addition to a constant. We can avoid this issue by removing a constant (we could have added a constant and removed one of the age dummies, but we wouldn't want to because we want each age dummy variable in the regression, since its coefficient gives a logit of the baseline hazard rate)."
   ]
  },
  {
   "cell_type": "code",
   "execution_count": 4,
   "metadata": {},
   "outputs": [
    {
     "data": {
      "text/plain": [
       "array([-5.08140436, -4.35670883, -3.43018492, -2.59983662, -2.32320438,\n",
       "       -2.30258509, -2.09964425, -1.97289829, -2.39253333, -1.97155258,\n",
       "       -2.10413415])"
      ]
     },
     "execution_count": 4,
     "metadata": {},
     "output_type": "execute_result"
    }
   ],
   "source": [
    "logit_coeff = np.array(logit.params)\n",
    "\n",
    "logit_coeff= logit_coeff[0:-1]\n",
    "logit_coeff"
   ]
  },
  {
   "cell_type": "code",
   "execution_count": 5,
   "metadata": {},
   "outputs": [
    {
     "name": "stdout",
     "output_type": "stream",
     "text": [
      "[ 0.00617284  0.01265823  0.03136531  0.06914894  0.08921933  0.09090909\n",
      "  0.1091314   0.12207792  0.08374384  0.12222222  0.10869565]\n"
     ]
    },
    {
     "data": {
      "image/png": "[encoded data removed]",
      "text/plain": [
       "<matplotlib.figure.Figure at 0x1c13c957b8>"
      ]
     },
     "metadata": {},
     "output_type": "display_data"
    }
   ],
   "source": [
    "#4Plot the baseline hazard for ages 12 to 22. Remember the coefficients on the\n",
    "#dummy variables correspond to the logit of the baseline hazard so you will need to transform\n",
    "#them prior to plotting.\n",
    "\n",
    "Ages = np.array([12,13,14,15,16,17,18,19,20,21,22])\n",
    "logit_baseline_hazard = logit_coeff\n",
    "estimated_hazard = np.exp(logit_baseline_hazard)/(1+np.exp(logit_baseline_hazard))\n",
    "print (estimated_hazard)\n",
    "\n",
    "plt.xlabel('Ages')\n",
    "plt.ylabel('estimated_hazard')\n",
    "plt.plot(Ages, estimated_hazard,color='green', marker='o', linestyle='dashed',\n",
    "        linewidth=2, markersize=12)\n",
    "plt.show()"
   ]
  },
  {
   "cell_type": "code",
   "execution_count": 7,
   "metadata": {},
   "outputs": [
    {
     "name": "stdout",
     "output_type": "stream",
     "text": [
      "Values:  [ 0.99382716  0.98734177  0.96863469  0.93085106  0.91078067  0.90909091\n",
      "  0.8908686   0.87792208  0.91625616  0.87777778  0.89130435]\n",
      "Products:    [0.99382716049382713, 0.98124706985466481, 0.95046994773745208, 0.88474596198964939, 0.80580951928425315, 0.73255410844023017, 0.65260945072626286, 0.57294024505318664, 0.5249600274871562, 0.46079824634983713, 0.41071148044224615]\n"
     ]
    }
   ],
   "source": [
    "#4Plot the Kaplan-Meier survival function estimate based on your analysis in #3. \n",
    "Values = 1-estimated_hazard\n",
    "initial = 1\n",
    "products = []\n",
    "\n",
    "for v in Values:\n",
    "    initial = initial * v\n",
    "    products.append(initial)\n",
    "    \n",
    "print ('Values: ', Values)\n",
    "print ('Products:   ', products)"
   ]
  },
  {
   "cell_type": "code",
   "execution_count": 8,
   "metadata": {},
   "outputs": [
    {
     "data": {
      "image/png": "[encoded data removed]",
      "text/plain": [
       "<matplotlib.figure.Figure at 0x1c13ce8358>"
      ]
     },
     "metadata": {},
     "output_type": "display_data"
    }
   ],
   "source": [
    "Survival_Rate = products\n",
    "\n",
    "plt.xlabel('Ages')\n",
    "plt.ylabel('Est. Survival Rate')\n",
    "plt.step(Ages, Survival_Rate,color='red', linestyle='dashed', linewidth=2)\n",
    "plt.show()"
   ]
  },
  {
   "cell_type": "code",
   "execution_count": 9,
   "metadata": {},
   "outputs": [
    {
     "name": "stdout",
     "output_type": "stream",
     "text": [
      "          KM_estimate\n",
      "timeline             \n",
      "0.0          1.000000\n",
      "12.0         0.999519\n",
      "13.0         0.997955\n",
      "14.0         0.992908\n",
      "15.0         0.979171\n",
      "16.0         0.958328\n",
      "17.0         0.933212\n",
      "18.0         0.895792\n",
      "19.0         0.841326\n",
      "20.0         0.804464\n",
      "21.0         0.756631\n",
      "22.0         0.716808\n",
      "23.0         0.672922\n",
      "24.0         0.672922\n",
      "25.0         0.602088\n",
      "26.0         0.602088\n",
      "27.0         0.602088\n",
      "28.0         0.602088\n"
     ]
    },
    {
     "data": {
      "image/png": "[encoded data removed]",
      "text/plain": [
       "<matplotlib.figure.Figure at 0x1c13c952b0>"
      ]
     },
     "metadata": {},
     "output_type": "display_data"
    }
   ],
   "source": [
    "#For Comparison\n",
    "#4Plot the Kaplan-Meier survival function estimate based on your analysis in #3.\n",
    "\n",
    "from lifelines import KaplanMeierFitter\n",
    "\n",
    "T = PersonYear['AGE']\n",
    "E = PersonYear['Y']\n",
    "\n",
    "kmf = KaplanMeierFitter()\n",
    "kmf.fit(T, event_observed=E)\n",
    "\n",
    "print (kmf.survival_function_)\n",
    "#print (kmf.median_)\n",
    "kmf.plot()\n",
    "plt.show()"
   ]
  },
  {
   "cell_type": "code",
   "execution_count": 10,
   "metadata": {},
   "outputs": [
    {
     "name": "stdout",
     "output_type": "stream",
     "text": [
      "616\n"
     ]
    }
   ],
   "source": [
    "#5 Plot 95 percent point-wise confidence intervals around your estimated survival function. Use Greenwood formula for confidence level.\n",
    "print(len(PersonYear['PID'].unique()))"
   ]
  },
  {
   "cell_type": "code",
   "execution_count": 11,
   "metadata": {},
   "outputs": [
    {
     "name": "stdout",
     "output_type": "stream",
     "text": [
      "2\n",
      "6\n",
      "17\n",
      "39\n",
      "48\n",
      "45\n",
      "49\n",
      "47\n",
      "17\n",
      "11\n",
      "5\n",
      "[2, 6, 17, 39, 48, 45, 49, 47, 17, 11, 5]\n"
     ]
    }
   ],
   "source": [
    "D12 = np.array(PersonYear['PID'][PersonYear['Y']==1][PersonYear['AGE']==12])\n",
    "print(len(D12))\n",
    "D13 = np.array(PersonYear['PID'][PersonYear['Y']==1][PersonYear['AGE']==13])\n",
    "print(len(D13))\n",
    "D14 = np.array(PersonYear['PID'][PersonYear['Y']==1][PersonYear['AGE']==14])\n",
    "print(len(D14))\n",
    "D15 = np.array(PersonYear['PID'][PersonYear['Y']==1][PersonYear['AGE']==15])\n",
    "print(len(D15))\n",
    "D16 = np.array(PersonYear['PID'][PersonYear['Y']==1][PersonYear['AGE']==16])\n",
    "print(len(D16))\n",
    "D17 = np.array(PersonYear['PID'][PersonYear['Y']==1][PersonYear['AGE']==17])\n",
    "print(len(D17))\n",
    "D18 = np.array(PersonYear['PID'][PersonYear['Y']==1][PersonYear['AGE']==18])\n",
    "print(len(D18))\n",
    "D19 = np.array(PersonYear['PID'][PersonYear['Y']==1][PersonYear['AGE']==19])\n",
    "print(len(D19))\n",
    "D20 = np.array(PersonYear['PID'][PersonYear['Y']==1][PersonYear['AGE']==20])\n",
    "print(len(D20))\n",
    "D21 = np.array(PersonYear['PID'][PersonYear['Y']==1][PersonYear['AGE']==21])\n",
    "print(len(D21))\n",
    "D22 = np.array(PersonYear['PID'][PersonYear['Y']==1][PersonYear['AGE']==22])\n",
    "print(len(D22))\n",
    "\n",
    "D = [len(D12), len(D13), len(D14), len(D15), len(D16), len(D17), len(D18), len(D19), len(D20), len(D21), len(D22)]\n",
    "print (D)"
   ]
  },
  {
   "cell_type": "code",
   "execution_count": 12,
   "metadata": {},
   "outputs": [
    {
     "data": {
      "text/plain": [
       "array([ 324.,  474.,  542.,  564.,  538.,  495.,  449.,  385.,  203.,\n",
       "         90.,   46.])"
      ]
     },
     "execution_count": 12,
     "metadata": {},
     "output_type": "execute_result"
    }
   ],
   "source": [
    "N = D/estimated_hazard\n",
    "N = np.round(N)\n",
    "N\n",
    "#Note: N[0] (Age12), N[1] (Age13), N[2] (Age14) all seem to have erroneous values"
   ]
  },
  {
   "cell_type": "code",
   "execution_count": 13,
   "metadata": {},
   "outputs": [
    {
     "name": "stdout",
     "output_type": "stream",
     "text": [
      "values:  [ 0.00437839  0.00520072  0.00772939  0.0114766   0.01349371  0.01421338\n",
      "  0.01651752  0.01900466  0.02121876  0.0393334   0.05148896]\n",
      "sums:    [0.0043783911457727885, 0.009579111807558589, 0.017308500824641571, 0.028785096982555033, 0.042278809112693959, 0.056492190203067991, 0.073009711439473296, 0.092014376241942392, 0.11323313472676588, 0.15256653957544578, 0.20405550409850076]\n",
      "[ 0.00435136  0.00510319  0.00734655  0.01015387  0.01087336  0.01041207\n",
      "  0.01077949  0.01088854  0.011139    0.01812476  0.02114711]\n"
     ]
    },
    {
     "data": {
      "image/png": "[encoded data removed]",
      "text/plain": [
       "<matplotlib.figure.Figure at 0x1c14ab1ef0>"
      ]
     },
     "metadata": {},
     "output_type": "display_data"
    }
   ],
   "source": [
    "#5 Plot 95 percent point-wise confidence intervals around your estimated survival function. Use Greenwood formula for confidence level.\n",
    "\n",
    "###########################\n",
    "odds_ratio = np.exp(logit_baseline_hazard)\n",
    "\n",
    "values = (odds_ratio/N)**(1/2)\n",
    "total = 0\n",
    "sums = []\n",
    "\n",
    "for v in values:\n",
    "    total = total + v\n",
    "    sums.append(total)\n",
    "    \n",
    "print ('values: ', values)\n",
    "print ('sums:   ', sums)\n",
    "\n",
    "###########################\n",
    "SE = Survival_Rate*values\n",
    "print (SE)\n",
    "###########################\n",
    "Survival_Rate = products\n",
    "\n",
    "plt.xlabel('Ages')\n",
    "plt.ylabel('Est. Survival Rate')\n",
    "plt.step(Ages, Survival_Rate,color='red', linestyle='dashed', linewidth=2)\n",
    "\n",
    "plt.step(Ages, Survival_Rate-1.96*SE, color='blue', linewidth=1) \n",
    "plt.step(Ages, Survival_Rate+1.96*SE, color='blue', linewidth=1)\n",
    "\n",
    "plt.show()\n",
    "############################"
   ]
  },
  {
   "cell_type": "code",
   "execution_count": 14,
   "metadata": {},
   "outputs": [
    {
     "name": "stdout",
     "output_type": "stream",
     "text": [
      "Optimization terminated successfully.\n",
      "         Current function value: 0.237271\n",
      "         Iterations 9\n"
     ]
    },
    {
     "data": {
      "text/html": [
       "<table class=\"simpletable\">\n",
       "<caption>Logit Regression Results</caption>\n",
       "<tr>\n",
       "  <th>Dep. Variable:</th>         <td>Y</td>        <th>  No. Observations:  </th>  <td>  4159</td>  \n",
       "</tr>\n",
       "<tr>\n",
       "  <th>Model:</th>               <td>Logit</td>      <th>  Df Residuals:      </th>  <td>  4142</td>  \n",
       "</tr>\n",
       "<tr>\n",
       "  <th>Method:</th>               <td>MLE</td>       <th>  Df Model:          </th>  <td>    16</td>  \n",
       "</tr>\n",
       "<tr>\n",
       "  <th>Date:</th>          <td>Fri, 04 May 2018</td> <th>  Pseudo R-squ.:     </th>  <td>0.06423</td> \n",
       "</tr>\n",
       "<tr>\n",
       "  <th>Time:</th>              <td>02:07:32</td>     <th>  Log-Likelihood:    </th> <td> -986.81</td> \n",
       "</tr>\n",
       "<tr>\n",
       "  <th>converged:</th>           <td>True</td>       <th>  LL-Null:           </th> <td> -1054.5</td> \n",
       "</tr>\n",
       "<tr>\n",
       "  <th> </th>                      <td> </td>        <th>  LLR p-value:       </th> <td>5.526e-21</td>\n",
       "</tr>\n",
       "</table>\n",
       "<table class=\"simpletable\">\n",
       "<tr>\n",
       "     <td></td>        <th>coef</th>     <th>std err</th>      <th>t</th>      <th>P>|t|</th>  <th>[0.025</th>    <th>0.975]</th>  \n",
       "</tr>\n",
       "<tr>\n",
       "  <th>AGE_12</th>  <td>   -4.8372</td> <td>    0.714</td> <td>   -6.778</td> <td> 0.000</td> <td>   -6.239</td> <td>   -3.436</td>\n",
       "</tr>\n",
       "<tr>\n",
       "  <th>AGE_13</th>  <td>   -4.1130</td> <td>    0.420</td> <td>   -9.798</td> <td> 0.000</td> <td>   -4.937</td> <td>   -3.289</td>\n",
       "</tr>\n",
       "<tr>\n",
       "  <th>AGE_14</th>  <td>   -3.1909</td> <td>    0.255</td> <td>  -12.500</td> <td> 0.000</td> <td>   -3.692</td> <td>   -2.690</td>\n",
       "</tr>\n",
       "<tr>\n",
       "  <th>AGE_15</th>  <td>   -2.3564</td> <td>    0.181</td> <td>  -12.986</td> <td> 0.000</td> <td>   -2.713</td> <td>   -2.000</td>\n",
       "</tr>\n",
       "<tr>\n",
       "  <th>AGE_16</th>  <td>   -2.0747</td> <td>    0.161</td> <td>  -12.921</td> <td> 0.000</td> <td>   -2.390</td> <td>   -1.759</td>\n",
       "</tr>\n",
       "<tr>\n",
       "  <th>AGE_17</th>  <td>   -2.0560</td> <td>    0.171</td> <td>  -12.037</td> <td> 0.000</td> <td>   -2.391</td> <td>   -1.721</td>\n",
       "</tr>\n",
       "<tr>\n",
       "  <th>AGE_18</th>  <td>   -1.8482</td> <td>    0.167</td> <td>  -11.063</td> <td> 0.000</td> <td>   -2.176</td> <td>   -1.520</td>\n",
       "</tr>\n",
       "<tr>\n",
       "  <th>AGE_19</th>  <td>   -1.7173</td> <td>    0.166</td> <td>  -10.327</td> <td> 0.000</td> <td>   -2.044</td> <td>   -1.391</td>\n",
       "</tr>\n",
       "<tr>\n",
       "  <th>AGE_20</th>  <td>   -2.1346</td> <td>    0.265</td> <td>   -8.059</td> <td> 0.000</td> <td>   -2.655</td> <td>   -1.614</td>\n",
       "</tr>\n",
       "<tr>\n",
       "  <th>AGE_21</th>  <td>   -1.7206</td> <td>    0.332</td> <td>   -5.183</td> <td> 0.000</td> <td>   -2.373</td> <td>   -1.069</td>\n",
       "</tr>\n",
       "<tr>\n",
       "  <th>AGE_22</th>  <td>   -1.8846</td> <td>    0.480</td> <td>   -3.927</td> <td> 0.000</td> <td>   -2.827</td> <td>   -0.942</td>\n",
       "</tr>\n",
       "<tr>\n",
       "  <th>AGE_23+</th> <td>   -2.0276</td> <td>    0.533</td> <td>   -3.804</td> <td> 0.000</td> <td>   -3.074</td> <td>   -0.981</td>\n",
       "</tr>\n",
       "<tr>\n",
       "  <th>MATH</th>    <td>   -0.1385</td> <td>    0.092</td> <td>   -1.512</td> <td> 0.131</td> <td>   -0.318</td> <td>    0.041</td>\n",
       "</tr>\n",
       "<tr>\n",
       "  <th>LANG</th>    <td>    0.1247</td> <td>    0.093</td> <td>    1.347</td> <td> 0.178</td> <td>   -0.057</td> <td>    0.306</td>\n",
       "</tr>\n",
       "<tr>\n",
       "  <th>MATH2</th>   <td>   -0.1457</td> <td>    0.084</td> <td>   -1.726</td> <td> 0.085</td> <td>   -0.312</td> <td>    0.020</td>\n",
       "</tr>\n",
       "<tr>\n",
       "  <th>LANG2</th>   <td>   -0.2438</td> <td>    0.096</td> <td>   -2.540</td> <td> 0.011</td> <td>   -0.432</td> <td>   -0.055</td>\n",
       "</tr>\n",
       "<tr>\n",
       "  <th>Int</th>     <td>    0.2005</td> <td>    0.148</td> <td>    1.356</td> <td> 0.176</td> <td>   -0.090</td> <td>    0.491</td>\n",
       "</tr>\n",
       "</table>"
      ],
      "text/plain": [
       "<class 'statsmodels.iolib.summary.Summary'>\n",
       "\"\"\"\n",
       "                           Logit Regression Results                           \n",
       "==============================================================================\n",
       "Dep. Variable:                      Y   No. Observations:                 4159\n",
       "Model:                          Logit   Df Residuals:                     4142\n",
       "Method:                           MLE   Df Model:                           16\n",
       "Date:                Fri, 04 May 2018   Pseudo R-squ.:                 0.06423\n",
       "Time:                        02:07:32   Log-Likelihood:                -986.81\n",
       "converged:                       True   LL-Null:                       -1054.5\n",
       "                                        LLR p-value:                 5.526e-21\n",
       "==============================================================================\n",
       "                 coef    std err          t      P>|t|      [0.025      0.975]\n",
       "------------------------------------------------------------------------------\n",
       "AGE_12        -4.8372      0.714     -6.778      0.000      -6.239      -3.436\n",
       "AGE_13        -4.1130      0.420     -9.798      0.000      -4.937      -3.289\n",
       "AGE_14        -3.1909      0.255    -12.500      0.000      -3.692      -2.690\n",
       "AGE_15        -2.3564      0.181    -12.986      0.000      -2.713      -2.000\n",
       "AGE_16        -2.0747      0.161    -12.921      0.000      -2.390      -1.759\n",
       "AGE_17        -2.0560      0.171    -12.037      0.000      -2.391      -1.721\n",
       "AGE_18        -1.8482      0.167    -11.063      0.000      -2.176      -1.520\n",
       "AGE_19        -1.7173      0.166    -10.327      0.000      -2.044      -1.391\n",
       "AGE_20        -2.1346      0.265     -8.059      0.000      -2.655      -1.614\n",
       "AGE_21        -1.7206      0.332     -5.183      0.000      -2.373      -1.069\n",
       "AGE_22        -1.8846      0.480     -3.927      0.000      -2.827      -0.942\n",
       "AGE_23+       -2.0276      0.533     -3.804      0.000      -3.074      -0.981\n",
       "MATH          -0.1385      0.092     -1.512      0.131      -0.318       0.041\n",
       "LANG           0.1247      0.093      1.347      0.178      -0.057       0.306\n",
       "MATH2         -0.1457      0.084     -1.726      0.085      -0.312       0.020\n",
       "LANG2         -0.2438      0.096     -2.540      0.011      -0.432      -0.055\n",
       "Int            0.2005      0.148      1.356      0.176      -0.090       0.491\n",
       "==============================================================================\n",
       "\"\"\""
      ]
     },
     "execution_count": 14,
     "metadata": {},
     "output_type": "execute_result"
    }
   ],
   "source": [
    "#6 Add the covariates MATH, LANG, their interaction as well as their squares. Comment on your results [2 to 4 sentences].\n",
    "\n",
    "PersonYear['MATH2'] = PersonYear['MATH']**2\n",
    "PersonYear['LANG2'] = PersonYear['LANG']**2\n",
    "PersonYear['Int'] = PersonYear['MATH']*PersonYear['LANG']\n",
    "\n",
    "X1 = pd.concat([X,PersonYear[['MATH','LANG','MATH2','LANG2','Int']]], axis=1)\n",
    "\n",
    "logit1 = sm.Logit(Y,X1).fit(cov_type='cluster', cov_kwds={'groups': PersonYear['PID']},use_t=True)\n",
    "logit1.summary()"
   ]
  },
  {
   "cell_type": "code",
   "execution_count": 15,
   "metadata": {},
   "outputs": [
    {
     "name": "stdout",
     "output_type": "stream",
     "text": [
      "0.870705660791\n",
      "1.13277620629\n"
     ]
    }
   ],
   "source": [
    "#odds ratio of MATH\n",
    "print(np.exp(logit1.params[-5]))\n",
    "#odds ratio of LANG\n",
    "print(np.exp(logit1.params[-4]))"
   ]
  },
  {
   "cell_type": "markdown",
   "metadata": {},
   "source": [
    "This gives the logistic regression of Y onto AGE dummies, MATH, LANG, MATH^2, LANG^2, and the interaction term.\n",
    "\n",
    "Adding MATH and LANG terms to the regression seems to overall increase the coefficients on the age dummy variables.\n",
    "Also, holding other variables constant, we can interpret that one-unit increases in math and language scores are expected to bring about approximately 13% decrease and 13% increase in the odds of getting married, respectively."
   ]
  },
  {
   "cell_type": "code",
   "execution_count": 16,
   "metadata": {},
   "outputs": [
    {
     "name": "stdout",
     "output_type": "stream",
     "text": [
      "Optimization terminated successfully.\n",
      "         Current function value: 0.237256\n",
      "         Iterations 9\n"
     ]
    },
    {
     "data": {
      "text/html": [
       "<table class=\"simpletable\">\n",
       "<caption>Logit Regression Results</caption>\n",
       "<tr>\n",
       "  <th>Dep. Variable:</th>         <td>Y</td>        <th>  No. Observations:  </th>  <td>  4159</td>  \n",
       "</tr>\n",
       "<tr>\n",
       "  <th>Model:</th>               <td>Logit</td>      <th>  Df Residuals:      </th>  <td>  4141</td>  \n",
       "</tr>\n",
       "<tr>\n",
       "  <th>Method:</th>               <td>MLE</td>       <th>  Df Model:          </th>  <td>    17</td>  \n",
       "</tr>\n",
       "<tr>\n",
       "  <th>Date:</th>          <td>Fri, 04 May 2018</td> <th>  Pseudo R-squ.:     </th>  <td>0.06429</td> \n",
       "</tr>\n",
       "<tr>\n",
       "  <th>Time:</th>              <td>02:07:32</td>     <th>  Log-Likelihood:    </th> <td> -986.75</td> \n",
       "</tr>\n",
       "<tr>\n",
       "  <th>converged:</th>           <td>True</td>       <th>  LL-Null:           </th> <td> -1054.5</td> \n",
       "</tr>\n",
       "<tr>\n",
       "  <th> </th>                      <td> </td>        <th>  LLR p-value:       </th> <td>1.557e-20</td>\n",
       "</tr>\n",
       "</table>\n",
       "<table class=\"simpletable\">\n",
       "<tr>\n",
       "     <td></td>        <th>coef</th>     <th>std err</th>      <th>t</th>      <th>P>|t|</th>  <th>[0.025</th>    <th>0.975]</th>  \n",
       "</tr>\n",
       "<tr>\n",
       "  <th>SAT</th>     <td>    0.0444</td> <td>    0.125</td> <td>    0.356</td> <td> 0.722</td> <td>   -0.201</td> <td>    0.290</td>\n",
       "</tr>\n",
       "<tr>\n",
       "  <th>AGE_12</th>  <td>   -4.8545</td> <td>    0.715</td> <td>   -6.792</td> <td> 0.000</td> <td>   -6.258</td> <td>   -3.451</td>\n",
       "</tr>\n",
       "<tr>\n",
       "  <th>AGE_13</th>  <td>   -4.1300</td> <td>    0.421</td> <td>   -9.801</td> <td> 0.000</td> <td>   -4.958</td> <td>   -3.303</td>\n",
       "</tr>\n",
       "<tr>\n",
       "  <th>AGE_14</th>  <td>   -3.2087</td> <td>    0.258</td> <td>  -12.423</td> <td> 0.000</td> <td>   -3.716</td> <td>   -2.702</td>\n",
       "</tr>\n",
       "<tr>\n",
       "  <th>AGE_15</th>  <td>   -2.3738</td> <td>    0.188</td> <td>  -12.614</td> <td> 0.000</td> <td>   -2.743</td> <td>   -2.004</td>\n",
       "</tr>\n",
       "<tr>\n",
       "  <th>AGE_16</th>  <td>   -2.0920</td> <td>    0.168</td> <td>  -12.454</td> <td> 0.000</td> <td>   -2.422</td> <td>   -1.762</td>\n",
       "</tr>\n",
       "<tr>\n",
       "  <th>AGE_17</th>  <td>   -2.0734</td> <td>    0.177</td> <td>  -11.731</td> <td> 0.000</td> <td>   -2.421</td> <td>   -1.726</td>\n",
       "</tr>\n",
       "<tr>\n",
       "  <th>AGE_18</th>  <td>   -1.8655</td> <td>    0.174</td> <td>  -10.701</td> <td> 0.000</td> <td>   -2.208</td> <td>   -1.523</td>\n",
       "</tr>\n",
       "<tr>\n",
       "  <th>AGE_19</th>  <td>   -1.7346</td> <td>    0.173</td> <td>  -10.001</td> <td> 0.000</td> <td>   -2.075</td> <td>   -1.394</td>\n",
       "</tr>\n",
       "<tr>\n",
       "  <th>AGE_20</th>  <td>   -2.1523</td> <td>    0.269</td> <td>   -8.003</td> <td> 0.000</td> <td>   -2.680</td> <td>   -1.624</td>\n",
       "</tr>\n",
       "<tr>\n",
       "  <th>AGE_21</th>  <td>   -1.7401</td> <td>    0.337</td> <td>   -5.157</td> <td> 0.000</td> <td>   -2.403</td> <td>   -1.077</td>\n",
       "</tr>\n",
       "<tr>\n",
       "  <th>AGE_22</th>  <td>   -1.9034</td> <td>    0.482</td> <td>   -3.946</td> <td> 0.000</td> <td>   -2.851</td> <td>   -0.956</td>\n",
       "</tr>\n",
       "<tr>\n",
       "  <th>AGE_23+</th> <td>   -2.0416</td> <td>    0.536</td> <td>   -3.811</td> <td> 0.000</td> <td>   -3.093</td> <td>   -0.990</td>\n",
       "</tr>\n",
       "<tr>\n",
       "  <th>MATH</th>    <td>   -0.1365</td> <td>    0.092</td> <td>   -1.485</td> <td> 0.138</td> <td>   -0.317</td> <td>    0.044</td>\n",
       "</tr>\n",
       "<tr>\n",
       "  <th>LANG</th>    <td>    0.1236</td> <td>    0.093</td> <td>    1.333</td> <td> 0.183</td> <td>   -0.059</td> <td>    0.306</td>\n",
       "</tr>\n",
       "<tr>\n",
       "  <th>MATH2</th>   <td>   -0.1477</td> <td>    0.084</td> <td>   -1.751</td> <td> 0.080</td> <td>   -0.313</td> <td>    0.018</td>\n",
       "</tr>\n",
       "<tr>\n",
       "  <th>LANG2</th>   <td>   -0.2447</td> <td>    0.096</td> <td>   -2.552</td> <td> 0.011</td> <td>   -0.433</td> <td>   -0.056</td>\n",
       "</tr>\n",
       "<tr>\n",
       "  <th>Int</th>     <td>    0.2022</td> <td>    0.147</td> <td>    1.371</td> <td> 0.171</td> <td>   -0.087</td> <td>    0.492</td>\n",
       "</tr>\n",
       "</table>"
      ],
      "text/plain": [
       "<class 'statsmodels.iolib.summary.Summary'>\n",
       "\"\"\"\n",
       "                           Logit Regression Results                           \n",
       "==============================================================================\n",
       "Dep. Variable:                      Y   No. Observations:                 4159\n",
       "Model:                          Logit   Df Residuals:                     4141\n",
       "Method:                           MLE   Df Model:                           17\n",
       "Date:                Fri, 04 May 2018   Pseudo R-squ.:                 0.06429\n",
       "Time:                        02:07:32   Log-Likelihood:                -986.75\n",
       "converged:                       True   LL-Null:                       -1054.5\n",
       "                                        LLR p-value:                 1.557e-20\n",
       "==============================================================================\n",
       "                 coef    std err          t      P>|t|      [0.025      0.975]\n",
       "------------------------------------------------------------------------------\n",
       "SAT            0.0444      0.125      0.356      0.722      -0.201       0.290\n",
       "AGE_12        -4.8545      0.715     -6.792      0.000      -6.258      -3.451\n",
       "AGE_13        -4.1300      0.421     -9.801      0.000      -4.958      -3.303\n",
       "AGE_14        -3.2087      0.258    -12.423      0.000      -3.716      -2.702\n",
       "AGE_15        -2.3738      0.188    -12.614      0.000      -2.743      -2.004\n",
       "AGE_16        -2.0920      0.168    -12.454      0.000      -2.422      -1.762\n",
       "AGE_17        -2.0734      0.177    -11.731      0.000      -2.421      -1.726\n",
       "AGE_18        -1.8655      0.174    -10.701      0.000      -2.208      -1.523\n",
       "AGE_19        -1.7346      0.173    -10.001      0.000      -2.075      -1.394\n",
       "AGE_20        -2.1523      0.269     -8.003      0.000      -2.680      -1.624\n",
       "AGE_21        -1.7401      0.337     -5.157      0.000      -2.403      -1.077\n",
       "AGE_22        -1.9034      0.482     -3.946      0.000      -2.851      -0.956\n",
       "AGE_23+       -2.0416      0.536     -3.811      0.000      -3.093      -0.990\n",
       "MATH          -0.1365      0.092     -1.485      0.138      -0.317       0.044\n",
       "LANG           0.1236      0.093      1.333      0.183      -0.059       0.306\n",
       "MATH2         -0.1477      0.084     -1.751      0.080      -0.313       0.018\n",
       "LANG2         -0.2447      0.096     -2.552      0.011      -0.433      -0.056\n",
       "Int            0.2022      0.147      1.371      0.171      -0.087       0.492\n",
       "==============================================================================\n",
       "\"\"\""
      ]
     },
     "execution_count": 16,
     "metadata": {},
     "output_type": "execute_result"
    }
   ],
   "source": [
    "#7 Add the SAT dummy variable to the model introduced in #6 above. Interpret the estimated\n",
    "#coefficient on SAT in light of the discussion of the SAT program provided in McEwan et al.\n",
    "#(2015). How does exposure to SAT influence (or not influence) age at first marriage [1 to 2\n",
    "#paragraphs].\n",
    "\n",
    "X2 = pd.concat([PersonYear['SAT'], X1],axis=1)\n",
    "\n",
    "logit2 = sm.Logit(Y,X2).fit(cov_type='cluster', cov_kwds={'groups': PersonYear['PID']},use_t=True)\n",
    "logit2.summary()"
   ]
  },
  {
   "cell_type": "code",
   "execution_count": 17,
   "metadata": {},
   "outputs": [
    {
     "data": {
      "text/plain": [
       "1.045403872643947"
      ]
     },
     "execution_count": 17,
     "metadata": {},
     "output_type": "execute_result"
    }
   ],
   "source": [
    "np.exp(logit2.params[0])"
   ]
  },
  {
   "cell_type": "markdown",
   "metadata": {
    "collapsed": true
   },
   "source": [
    "Holding other variables constant, the odds of getting married for the first time for students living in SAT over the odds of getting married for those living in CEB is exp(0.0444)=1.0454. In terms of percent change, we can say that the odds for SAT females are 4.54% higher than the odds for CEB females.\n",
    "\n",
    "With regard to McEwan et al.(2015), it seems that exposure to SAT actaully lowers the age at first marriage when we control for age, math and language scores."
   ]
  }
 ],
 "metadata": {
  "kernelspec": {
   "display_name": "Python 3",
   "language": "python",
   "name": "python3"
  },
  "language_info": {
   "codemirror_mode": {
    "name": "ipython",
    "version": 3
   },
   "file_extension": ".py",
   "mimetype": "text/x-python",
   "name": "python",
   "nbconvert_exporter": "python",
   "pygments_lexer": "ipython3",
   "version": "3.6.3"
  }
 },
 "nbformat": 4,
 "nbformat_minor": 2
}
